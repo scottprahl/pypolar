{
 "cells": [
  {
   "cell_type": "markdown",
   "metadata": {},
   "source": [
    "# Mueller Matrices\n",
    "\n",
    "**Scott Prahl**\n",
    "\n",
    "*April 2020*\n",
    "\n",
    "Here are examples of Mueller matrices that can be used for propagating polarized light through a system.\n",
    "\n",
    "* Linear Polarizers\n",
    "* Quarter Wave Plates\n",
    "* Half Wave Plates\n",
    "* Fresnel reflection/transmission\n"
   ]
  },
  {
   "cell_type": "code",
   "execution_count": 1,
   "metadata": {},
   "outputs": [],
   "source": [
    "import numpy as np\n",
    "import matplotlib.pyplot as plt\n",
    "\n",
    "import pypolar.fresnel as fresnel\n",
    "import pypolar.jones as jones\n",
    "import pypolar.mueller as mueller\n",
    "import pypolar.visualization as vis\n",
    "\n",
    "np.set_printoptions(suppress=True)  # print 1e-16 as zero"
   ]
  },
  {
   "cell_type": "markdown",
   "metadata": {},
   "source": [
    "## Linear Polarizers\n",
    "\n",
    "Kliger Appendix B page 285"
   ]
  },
  {
   "cell_type": "code",
   "execution_count": 2,
   "metadata": {},
   "outputs": [
    {
     "name": "stdout",
     "output_type": "stream",
     "text": [
      "Mueller matrix for perfect linear polarizer at angle theta=0.0°\n",
      "[[0.5 0.5 0.  0. ]\n",
      " [0.5 0.5 0.  0. ]\n",
      " [0.  0.  0.  0. ]\n",
      " [0.  0.  0.  0. ]] \n",
      "\n",
      "Mueller matrix for perfect linear polarizer at angle theta=45.0°\n",
      "[[0.5 0.  0.5 0. ]\n",
      " [0.  0.  0.  0. ]\n",
      " [0.5 0.  0.5 0. ]\n",
      " [0.  0.  0.  0. ]] \n",
      "\n",
      "Mueller matrix for perfect linear polarizer at angle theta=90.0°\n",
      "[[ 0.5 -0.5  0.   0. ]\n",
      " [-0.5  0.5 -0.   0. ]\n",
      " [ 0.  -0.   0.   0. ]\n",
      " [ 0.   0.   0.   0. ]] \n",
      "\n",
      "Mueller matrix for perfect linear polarizer at angle theta=-45.0°\n",
      "[[ 0.5  0.  -0.5  0. ]\n",
      " [ 0.   0.  -0.   0. ]\n",
      " [-0.5 -0.   0.5  0. ]\n",
      " [ 0.   0.   0.   0. ]] \n",
      "\n"
     ]
    }
   ],
   "source": [
    "for theta in [0,45,90,-45]:\n",
    "    print('Mueller matrix for perfect linear polarizer at angle theta=%.1f°' % theta)\n",
    "    L = mueller.op_linear_polarizer(np.radians(theta))\n",
    "    print(L, \"\\n\")"
   ]
  },
  {
   "cell_type": "markdown",
   "metadata": {},
   "source": [
    "## Quarter-Wave Plates\n",
    "\n",
    "Kliger Appendix B, page 287"
   ]
  },
  {
   "cell_type": "code",
   "execution_count": 3,
   "metadata": {},
   "outputs": [
    {
     "name": "stdout",
     "output_type": "stream",
     "text": [
      "Mueller matrix for quarter-wave plate with fast axis at angle theta= 0\n",
      "[[ 1.  0.  0.  0.]\n",
      " [ 0.  1.  0. -0.]\n",
      " [ 0.  0.  0.  1.]\n",
      " [ 0.  0. -1.  0.]] \n",
      "Should be the same as\n",
      "[[ 1.  0.  0.  0.]\n",
      " [ 0.  1.  0. -0.]\n",
      " [ 0.  0.  0.  1.]\n",
      " [ 0.  0. -1.  0.]] \n",
      "\n",
      "Mueller matrix for quarter-wave plate with fast axis at angle theta= 90\n",
      "[[ 1.  0.  0.  0.]\n",
      " [ 0.  1. -0. -0.]\n",
      " [ 0. -0.  0. -1.]\n",
      " [ 0.  0.  1.  0.]] \n",
      "Should be the same as\n",
      "[[ 1.  0.  0.  0.]\n",
      " [ 0.  1. -0. -0.]\n",
      " [ 0. -0.  0. -1.]\n",
      " [ 0.  0.  1.  0.]] \n",
      "\n",
      "Mueller matrix for quarter-wave plate with fast axis at angle theta= 45\n",
      "[[ 1.  0.  0.  0.]\n",
      " [ 0.  0.  0. -1.]\n",
      " [ 0.  0.  1.  0.]\n",
      " [ 0.  1. -0.  0.]] \n",
      "Should be the same as\n",
      "[[ 1.  0.  0.  0.]\n",
      " [ 0.  0.  0. -1.]\n",
      " [ 0.  0.  1.  0.]\n",
      " [ 0.  1. -0.  0.]] \n",
      "\n",
      "Mueller matrix for quarter-wave plate with fast axis at angle theta= -45\n",
      "[[ 1.  0.  0.  0.]\n",
      " [ 0.  0. -0.  1.]\n",
      " [ 0. -0.  1.  0.]\n",
      " [ 0. -1. -0.  0.]] \n",
      "Should be the same as\n",
      "[[ 1.  0.  0.  0.]\n",
      " [ 0.  0. -0.  1.]\n",
      " [ 0. -0.  1.  0.]\n",
      " [ 0. -1. -0.  0.]] \n",
      "\n"
     ]
    }
   ],
   "source": [
    "for theta in [0, 90, 45, -45]:\n",
    "    print('Mueller matrix for quarter-wave plate with fast axis at angle theta=',theta)\n",
    "    L = mueller.op_quarter_wave_plate(np.radians(theta))\n",
    "    print(L,\"\\nShould be the same as\")\n",
    "    L = mueller.op_retarder(np.radians(theta), np.pi/2)\n",
    "    print(L,\"\\n\")"
   ]
  },
  {
   "cell_type": "markdown",
   "metadata": {},
   "source": [
    "## Half-Wave Plates\n",
    "\n",
    "Kliger Appendix B, page 286"
   ]
  },
  {
   "cell_type": "code",
   "execution_count": 4,
   "metadata": {},
   "outputs": [
    {
     "name": "stdout",
     "output_type": "stream",
     "text": [
      "Mueller matrix for half-wave plate with fast axis at angle theta= 0\n",
      "[[ 1.  0.  0.  0.]\n",
      " [ 0.  1.  0.  0.]\n",
      " [ 0.  0. -1.  0.]\n",
      " [ 0.  0.  0. -1.]] \n",
      "Should be the same as\n",
      "[[ 1.  0.  0.  0.]\n",
      " [ 0.  1.  0. -0.]\n",
      " [ 0.  0. -1.  0.]\n",
      " [ 0.  0. -0. -1.]] \n",
      "\n",
      "Mueller matrix for half-wave plate with fast axis at angle theta= 90\n",
      "[[ 1.  0.  0.  0.]\n",
      " [ 0.  1. -0.  0.]\n",
      " [ 0. -0. -1.  0.]\n",
      " [ 0.  0.  0. -1.]] \n",
      "Should be the same as\n",
      "[[ 1.  0.  0.  0.]\n",
      " [ 0.  1. -0. -0.]\n",
      " [ 0. -0. -1. -0.]\n",
      " [ 0.  0.  0. -1.]] \n",
      "\n",
      "Mueller matrix for half-wave plate with fast axis at angle theta= 45\n",
      "[[ 1.  0.  0.  0.]\n",
      " [ 0. -1.  0.  0.]\n",
      " [ 0.  0.  1.  0.]\n",
      " [ 0.  0.  0. -1.]] \n",
      "Should be the same as\n",
      "[[ 1.  0.  0.  0.]\n",
      " [ 0. -1.  0. -0.]\n",
      " [ 0.  0.  1.  0.]\n",
      " [ 0.  0. -0. -1.]] \n",
      "\n",
      "Mueller matrix for half-wave plate with fast axis at angle theta= -45\n",
      "[[ 1.  0.  0.  0.]\n",
      " [ 0. -1. -0.  0.]\n",
      " [ 0. -0.  1.  0.]\n",
      " [ 0.  0.  0. -1.]] \n",
      "Should be the same as\n",
      "[[ 1.  0.  0.  0.]\n",
      " [ 0. -1. -0.  0.]\n",
      " [ 0. -0.  1.  0.]\n",
      " [ 0. -0. -0. -1.]] \n",
      "\n"
     ]
    }
   ],
   "source": [
    "for theta in [0, 90, 45, -45]:\n",
    "    print('Mueller matrix for half-wave plate with fast axis at angle theta=',theta)\n",
    "    L = mueller.op_half_wave_plate(np.radians(theta))\n",
    "    print(L,\"\\nShould be the same as\")\n",
    "    L = mueller.op_retarder(np.radians(theta), np.pi)\n",
    "    print(L,\"\\n\")\n"
   ]
  },
  {
   "cell_type": "markdown",
   "metadata": {},
   "source": [
    "## Fresnel Reflection/Transmission\n",
    "\n",
    "Note that these Mueller matrices include the change in perspective needed for the reflected beam.\n",
    "\n",
    "### Normal incidence\n",
    "\n",
    "$$\n",
    "M_R(0) = {(n-1)^2\\over(n+1)^2}\n",
    "\\left[\n",
    "\\begin{array}{cccc}\n",
    "1 & 0 & 0 & 0\\\\\n",
    "0 & 1 & 0 & 0\\\\\n",
    "0 & 0 & -1& 0\\\\\n",
    "0 & 0 & 0 &-1\\\\\n",
    "\\end{array}\\right]\n",
    "\\qquad\\mbox{and}\\qquad\n",
    "M_T(0) = {4n\\over(n+1)^2}\n",
    "\\left[\n",
    "\\begin{array}{cccc}\n",
    "1 & 0 & 0 & 0\\\\\n",
    "0 & 1 & 0 & 0\\\\\n",
    "0 & 0 & 1& 0\\\\\n",
    "0 & 0 & 0 &1\\\\\n",
    "\\end{array}\\right]\n",
    "$$"
   ]
  },
  {
   "cell_type": "code",
   "execution_count": 5,
   "metadata": {},
   "outputs": [
    {
     "name": "stdout",
     "output_type": "stream",
     "text": [
      "M_R=\n",
      "[[ 0.04  0.    0.    0.  ]\n",
      " [ 0.    0.04  0.    0.  ]\n",
      " [ 0.    0.   -0.04  0.  ]\n",
      " [ 0.    0.    0.   -0.04]]\n"
     ]
    }
   ],
   "source": [
    "MR = mueller.op_fresnel_reflection(1.5,0)\n",
    "print(\"M_R=\")\n",
    "print(MR)"
   ]
  },
  {
   "cell_type": "code",
   "execution_count": 6,
   "metadata": {},
   "outputs": [
    {
     "name": "stdout",
     "output_type": "stream",
     "text": [
      "0.8\n",
      "0.8\n",
      "0.9600000000000002\n",
      "0.9600000000000002\n",
      "M_T=\n",
      "[[0.96 0.   0.   0.  ]\n",
      " [0.   0.96 0.   0.  ]\n",
      " [0.   0.   0.96 0.  ]\n",
      " [0.   0.   0.   0.96]]\n"
     ]
    }
   ],
   "source": [
    "print(fresnel.t_per_amplitude(1.5,0))\n",
    "print(fresnel.t_par_amplitude(1.5,0))\n",
    "\n",
    "print(fresnel.T_per(1.5,0))\n",
    "print(fresnel.T_par(1.5,0))\n",
    "\n",
    "\n",
    "MT = mueller.op_fresnel_transmission(1.5,0)\n",
    "print(\"M_T=\")\n",
    "print(MT)"
   ]
  },
  {
   "cell_type": "markdown",
   "metadata": {},
   "source": [
    "### Light incident at Brewster's angle\n",
    "\n",
    "Brewster's angle for a dielectric material is \n",
    "\n",
    "$$\n",
    "\\tan\\theta_B = m\n",
    "$$\n",
    "\n",
    "and reflected field parallel to the plane of incidence becomes zero.\n",
    "\n",
    "The special case for reflection at Brewster's angle is\n",
    "$$\n",
    "M_R(\\theta_B) = {1\\over2}\\cos^2 2\\theta_B\n",
    "\\left[\n",
    "\\begin{array}{cccc}\n",
    "1 & 1 & 0 & 0\\\\\n",
    "1 & 1 & 0 & 0\\\\\n",
    "0 & 0 & 0 & 0\\\\\n",
    "0 & 0 & 0 & 0\\\\\n",
    "\\end{array}\\right]\n",
    "$$"
   ]
  },
  {
   "cell_type": "code",
   "execution_count": 7,
   "metadata": {},
   "outputs": [
    {
     "name": "stdout",
     "output_type": "stream",
     "text": [
      "56.309932474020215\n",
      "M_R=\n",
      "[[ 0.0739645  0.0739645  0.         0.       ]\n",
      " [ 0.0739645  0.0739645  0.         0.       ]\n",
      " [ 0.         0.        -0.         0.       ]\n",
      " [ 0.         0.         0.        -0.       ]]\n",
      "Matrix at Brewster's angle should be\n",
      "[[0.0739645 0.0739645 0.        0.       ]\n",
      " [0.0739645 0.0739645 0.        0.       ]\n",
      " [0.        0.        0.        0.       ]\n",
      " [0.        0.        0.        0.       ]]\n"
     ]
    }
   ],
   "source": [
    "m=1.5\n",
    "thetaB = np.arctan(m)\n",
    "print(np.degrees(thetaB))\n",
    "MR = mueller.op_fresnel_reflection(1.5,thetaB)\n",
    "print('M_R=')\n",
    "print(MR)\n",
    "\n",
    "print(\"Matrix at Brewster's angle should be\")\n",
    "const = 0.5*np.cos(2*thetaB)**2\n",
    "MR=const*np.array([[1,1,0,0],[1,1,0,0],[0,0,0,0],[0,0,0,0]])\n",
    "print(MR)"
   ]
  },
  {
   "cell_type": "markdown",
   "metadata": {},
   "source": [
    "Goldstein gives the following for the Mueller matrix for transmitted light incident at Brewster's angle\n",
    "$$\n",
    "M_T(\\theta_B) = {1\\over2}\n",
    "\\left[\n",
    "\\begin{array}{cccc}\n",
    "\\sin^22\\theta_B+1 & \\sin^22\\theta_B-1 & 0 & 0\\\\\n",
    "\\sin^22\\theta_B-1 & \\sin^22\\theta_B+1 & 0 & 0\\\\\n",
    "0 & 0 & 2\\sin2\\theta_B& 0\\\\\n",
    "0 & 0 & 0 &2\\sin2\\theta_B\\\\\n",
    "\\end{array}\\right]\n",
    "$$"
   ]
  },
  {
   "cell_type": "code",
   "execution_count": 8,
   "metadata": {},
   "outputs": [
    {
     "name": "stdout",
     "output_type": "stream",
     "text": [
      "Brewster's angle is 56.310°\n",
      "\n",
      "(direct) M_T=\n",
      "[[ 0.9260355  -0.0739645   0.          0.        ]\n",
      " [-0.0739645   0.9260355   0.          0.        ]\n",
      " [ 0.          0.          0.92307692  0.        ]\n",
      " [ 0.          0.          0.          0.92307692]]\n",
      "\n",
      "At Brewster's angle the matrix should be\n",
      "[[ 0.9260355  -0.0739645   0.          0.        ]\n",
      " [-0.0739645   0.9260355   0.          0.        ]\n",
      " [ 0.          0.          0.92307692  0.        ]\n",
      " [ 0.          0.          0.          0.92307692]]\n"
     ]
    }
   ],
   "source": [
    "m=1.5\n",
    "thetaB = np.arctan(m)\n",
    "print(\"Brewster's angle is %.3f°\"%(np.degrees(thetaB)))\n",
    "print()\n",
    "\n",
    "MT1 = mueller.op_fresnel_transmission(m,thetaB)\n",
    "print('(direct) M_T=')\n",
    "print(MT1)\n",
    "print()\n",
    "\n",
    "print(\"At Brewster's angle the matrix should be\")\n",
    "a = np.sin(2*thetaB)**2 + 1\n",
    "b = np.sin(2*thetaB)**2 - 1\n",
    "c = 2*np.sin(2*thetaB)\n",
    "MT=0.5*np.array([[a,b,0,0],[b,a,0,0],[0,0,c,0],[0,0,0,c]])\n",
    "print(MT)\n"
   ]
  },
  {
   "cell_type": "markdown",
   "metadata": {},
   "source": [
    "### Light incident at 45° to the surface\n",
    "\n",
    "This is the other special case where the Fresnel formulas simplify.  Goldstein 2003 gives\n",
    "\n",
    "$$\n",
    "\\theta_r = 45^\\circ\n",
    "$$\n",
    "\n",
    "thus\n",
    "\n",
    "$$\n",
    "M_R(\\theta_r) = {1-\\sin2\\theta_r\\over(1+\\sin2\\theta_r)^2}\n",
    "\\left[\n",
    "\\begin{array}{cccc}\n",
    "1 & \\sin2\\theta_r & 0 & 0\\\\\n",
    "\\sin2\\theta_r & 1 & 0 & 0\\\\\n",
    "0 & 0 & -\\cos2\\theta_r & 0\\\\\n",
    "0 & 0 & 0 & -\\cos2\\theta_r\\\\\n",
    "\\end{array}\\right]\n",
    "$$\n",
    "\n",
    "which may be off by a minus sign in the lower two diagonal elements?"
   ]
  },
  {
   "cell_type": "code",
   "execution_count": 9,
   "metadata": {},
   "outputs": [
    {
     "name": "stdout",
     "output_type": "stream",
     "text": [
      "M_R=\n",
      "[[ 0.05023991  0.04177345  0.          0.        ]\n",
      " [ 0.04177345  0.05023991  0.          0.        ]\n",
      " [ 0.          0.         -0.02791106  0.        ]\n",
      " [ 0.          0.          0.         -0.02791106]]\n",
      "Matrix at 45° angle should be\n",
      "[[ 0.05023991  0.04177345  0.          0.        ]\n",
      " [ 0.04177345  0.05023991  0.          0.        ]\n",
      " [ 0.          0.         -0.02791106  0.        ]\n",
      " [ 0.          0.          0.         -0.02791106]]\n"
     ]
    }
   ],
   "source": [
    "m=1.5\n",
    "thetai = np.pi/4\n",
    "\n",
    "MR = mueller.op_fresnel_reflection(1.5,thetai)\n",
    "print('M_R=')\n",
    "print(MR)\n",
    "\n",
    "print(\"Matrix at 45° angle should be\")\n",
    "thetar = np.arcsin(np.sin(thetai)/m)\n",
    "const = (1-np.sin(2*thetar))/(1+np.sin(2*thetar))**2\n",
    "a = np.sin(2*thetar)\n",
    "b = -np.cos(2*thetar)\n",
    "MR=const*np.array([[1,a,0,0],[a,1,0,0],[0,0,b,0],[0,0,0,b]])\n",
    "print(MR)"
   ]
  },
  {
   "cell_type": "markdown",
   "metadata": {},
   "source": [
    "## Example Optical isolator"
   ]
  },
  {
   "cell_type": "code",
   "execution_count": 10,
   "metadata": {},
   "outputs": [],
   "source": [
    "A = mueller.stokes_right_circular()       # incident light\n",
    "B = mueller.op_linear_polarizer(np.pi/4)  # polarizer at 45°\n",
    "C = mueller.op_quarter_wave_plate(0)      # QWP with fast axis horizontal\n",
    "D = mueller.op_mirror()                   # first surface mirror\n",
    "E = mueller.op_quarter_wave_plate(0)      # QWP still has fast axis horizontal\n",
    "F = mueller.op_linear_polarizer(-np.pi/4) # now at -45° because travelling backwards"
   ]
  },
  {
   "cell_type": "code",
   "execution_count": 11,
   "metadata": {},
   "outputs": [
    {
     "data": {
      "text/plain": [
       "0.0"
      ]
     },
     "execution_count": 11,
     "metadata": {},
     "output_type": "execute_result"
    }
   ],
   "source": [
    "# net result is no light\n",
    "mueller.intensity(F @ E @ D @ C @ B @ A)"
   ]
  },
  {
   "cell_type": "code",
   "execution_count": null,
   "metadata": {},
   "outputs": [],
   "source": []
  }
 ],
 "metadata": {
  "kernelspec": {
   "display_name": "Python 3 (ipykernel)",
   "language": "python",
   "name": "python3"
  },
  "language_info": {
   "codemirror_mode": {
    "name": "ipython",
    "version": 3
   },
   "file_extension": ".py",
   "mimetype": "text/x-python",
   "name": "python",
   "nbconvert_exporter": "python",
   "pygments_lexer": "ipython3",
   "version": "3.11.5"
  },
  "toc": {
   "nav_menu": {},
   "number_sections": true,
   "sideBar": false,
   "skip_h1_title": false,
   "toc_cell": false,
   "toc_position": {},
   "toc_section_display": "none",
   "toc_window_display": false
  }
 },
 "nbformat": 4,
 "nbformat_minor": 4
}
